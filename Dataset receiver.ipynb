{
 "cells": [
  {
   "cell_type": "code",
   "execution_count": 1,
   "id": "77daf877",
   "metadata": {},
   "outputs": [
    {
     "ename": "ModuleNotFoundError",
     "evalue": "No module named 'typing_extensions'",
     "output_type": "error",
     "traceback": [
      "\u001b[1;31m---------------------------------------------------------------------------\u001b[0m",
      "\u001b[1;31mModuleNotFoundError\u001b[0m                       Traceback (most recent call last)",
      "\u001b[1;32mc:\\Users\\Tim de Boer\\Documents\\VU\\Master_Artificial_Intelligence\\9_BCI_MasterProject\\BCI_Code\\unicorn_MI_BCI\\Dataset receiver.ipynb Cell 1'\u001b[0m in \u001b[0;36m<cell line: 2>\u001b[1;34m()\u001b[0m\n\u001b[0;32m      <a href='vscode-notebook-cell:/c%3A/Users/Tim%20de%20Boer/Documents/VU/Master_Artificial_Intelligence/9_BCI_MasterProject/BCI_Code/unicorn_MI_BCI/Dataset%20receiver.ipynb#ch0000005?line=0'>1</a>\u001b[0m \u001b[39mimport\u001b[39;00m \u001b[39mnumpy\u001b[39;00m \u001b[39mas\u001b[39;00m \u001b[39mnp\u001b[39;00m\n\u001b[1;32m----> <a href='vscode-notebook-cell:/c%3A/Users/Tim%20de%20Boer/Documents/VU/Master_Artificial_Intelligence/9_BCI_MasterProject/BCI_Code/unicorn_MI_BCI/Dataset%20receiver.ipynb#ch0000005?line=1'>2</a>\u001b[0m \u001b[39mimport\u001b[39;00m \u001b[39msrc\u001b[39;00m\u001b[39m.\u001b[39;00m\u001b[39mrealtime_utils\u001b[39;00m \u001b[39mas\u001b[39;00m \u001b[39mutils\u001b[39;00m\n\u001b[0;32m      <a href='vscode-notebook-cell:/c%3A/Users/Tim%20de%20Boer/Documents/VU/Master_Artificial_Intelligence/9_BCI_MasterProject/BCI_Code/unicorn_MI_BCI/Dataset%20receiver.ipynb#ch0000005?line=2'>3</a>\u001b[0m \u001b[39mimport\u001b[39;00m \u001b[39mtorch\u001b[39;00m\n\u001b[0;32m      <a href='vscode-notebook-cell:/c%3A/Users/Tim%20de%20Boer/Documents/VU/Master_Artificial_Intelligence/9_BCI_MasterProject/BCI_Code/unicorn_MI_BCI/Dataset%20receiver.ipynb#ch0000005?line=3'>4</a>\u001b[0m \u001b[39mfrom\u001b[39;00m \u001b[39mpylsl\u001b[39;00m \u001b[39mimport\u001b[39;00m StreamInlet, resolve_stream\n",
      "File \u001b[1;32mc:\\Users\\Tim de Boer\\Documents\\VU\\Master_Artificial_Intelligence\\9_BCI_MasterProject\\BCI_Code\\unicorn_MI_BCI\\src\\realtime_utils.py:21\u001b[0m, in \u001b[0;36m<module>\u001b[1;34m\u001b[0m\n\u001b[0;32m     <a href='file:///c%3A/Users/Tim%20de%20Boer/Documents/VU/Master_Artificial_Intelligence/9_BCI_MasterProject/BCI_Code/unicorn_MI_BCI/src/realtime_utils.py?line=17'>18</a>\u001b[0m \u001b[39mfrom\u001b[39;00m \u001b[39msklearn\u001b[39;00m\u001b[39m.\u001b[39;00m\u001b[39mmetrics\u001b[39;00m \u001b[39mimport\u001b[39;00m f1_score, precision_score, recall_score, confusion_matrix, roc_auc_score\n\u001b[0;32m     <a href='file:///c%3A/Users/Tim%20de%20Boer/Documents/VU/Master_Artificial_Intelligence/9_BCI_MasterProject/BCI_Code/unicorn_MI_BCI/src/realtime_utils.py?line=18'>19</a>\u001b[0m \u001b[39mfrom\u001b[39;00m \u001b[39mpathlib\u001b[39;00m \u001b[39mimport\u001b[39;00m Path\n\u001b[1;32m---> <a href='file:///c%3A/Users/Tim%20de%20Boer/Documents/VU/Master_Artificial_Intelligence/9_BCI_MasterProject/BCI_Code/unicorn_MI_BCI/src/realtime_utils.py?line=20'>21</a>\u001b[0m \u001b[39mimport\u001b[39;00m \u001b[39mtorch\u001b[39;00m\n\u001b[0;32m     <a href='file:///c%3A/Users/Tim%20de%20Boer/Documents/VU/Master_Artificial_Intelligence/9_BCI_MasterProject/BCI_Code/unicorn_MI_BCI/src/realtime_utils.py?line=21'>22</a>\u001b[0m \u001b[39mimport\u001b[39;00m \u001b[39mtorch\u001b[39;00m\u001b[39m.\u001b[39;00m\u001b[39mnn\u001b[39;00m \u001b[39mas\u001b[39;00m \u001b[39mnn\u001b[39;00m\n\u001b[0;32m     <a href='file:///c%3A/Users/Tim%20de%20Boer/Documents/VU/Master_Artificial_Intelligence/9_BCI_MasterProject/BCI_Code/unicorn_MI_BCI/src/realtime_utils.py?line=22'>23</a>\u001b[0m \u001b[39mimport\u001b[39;00m \u001b[39mtorch\u001b[39;00m\u001b[39m.\u001b[39;00m\u001b[39moptim\u001b[39;00m \u001b[39mas\u001b[39;00m \u001b[39moptim\u001b[39;00m\n",
      "File \u001b[1;32mc:\\Users\\Tim de Boer\\anaconda3\\envs\\UnicornBCI\\lib\\site-packages\\torch\\__init__.py:643\u001b[0m, in \u001b[0;36m<module>\u001b[1;34m\u001b[0m\n\u001b[0;32m    <a href='file:///c%3A/Users/Tim%20de%20Boer/anaconda3/envs/UnicornBCI/lib/site-packages/torch/__init__.py?line=635'>636</a>\u001b[0m     __all__\u001b[39m.\u001b[39mappend(name)\n\u001b[0;32m    <a href='file:///c%3A/Users/Tim%20de%20Boer/anaconda3/envs/UnicornBCI/lib/site-packages/torch/__init__.py?line=637'>638</a>\u001b[0m \u001b[39m################################################################################\u001b[39;00m\n\u001b[0;32m    <a href='file:///c%3A/Users/Tim%20de%20Boer/anaconda3/envs/UnicornBCI/lib/site-packages/torch/__init__.py?line=638'>639</a>\u001b[0m \u001b[39m# Import interface functions defined in Python\u001b[39;00m\n\u001b[0;32m    <a href='file:///c%3A/Users/Tim%20de%20Boer/anaconda3/envs/UnicornBCI/lib/site-packages/torch/__init__.py?line=639'>640</a>\u001b[0m \u001b[39m################################################################################\u001b[39;00m\n\u001b[0;32m    <a href='file:///c%3A/Users/Tim%20de%20Boer/anaconda3/envs/UnicornBCI/lib/site-packages/torch/__init__.py?line=640'>641</a>\u001b[0m \n\u001b[0;32m    <a href='file:///c%3A/Users/Tim%20de%20Boer/anaconda3/envs/UnicornBCI/lib/site-packages/torch/__init__.py?line=641'>642</a>\u001b[0m \u001b[39m# needs to be after the above ATen bindings so we can overwrite from Python side\u001b[39;00m\n\u001b[1;32m--> <a href='file:///c%3A/Users/Tim%20de%20Boer/anaconda3/envs/UnicornBCI/lib/site-packages/torch/__init__.py?line=642'>643</a>\u001b[0m \u001b[39mfrom\u001b[39;00m \u001b[39m.\u001b[39;00m\u001b[39mfunctional\u001b[39;00m \u001b[39mimport\u001b[39;00m \u001b[39m*\u001b[39m  \u001b[39m# noqa: F403\u001b[39;00m\n\u001b[0;32m    <a href='file:///c%3A/Users/Tim%20de%20Boer/anaconda3/envs/UnicornBCI/lib/site-packages/torch/__init__.py?line=645'>646</a>\u001b[0m \u001b[39m################################################################################\u001b[39;00m\n\u001b[0;32m    <a href='file:///c%3A/Users/Tim%20de%20Boer/anaconda3/envs/UnicornBCI/lib/site-packages/torch/__init__.py?line=646'>647</a>\u001b[0m \u001b[39m# Remove unnecessary members\u001b[39;00m\n\u001b[0;32m    <a href='file:///c%3A/Users/Tim%20de%20Boer/anaconda3/envs/UnicornBCI/lib/site-packages/torch/__init__.py?line=647'>648</a>\u001b[0m \u001b[39m################################################################################\u001b[39;00m\n\u001b[0;32m    <a href='file:///c%3A/Users/Tim%20de%20Boer/anaconda3/envs/UnicornBCI/lib/site-packages/torch/__init__.py?line=649'>650</a>\u001b[0m \u001b[39mdel\u001b[39;00m DoubleStorageBase\n",
      "File \u001b[1;32mc:\\Users\\Tim de Boer\\anaconda3\\envs\\UnicornBCI\\lib\\site-packages\\torch\\functional.py:6\u001b[0m, in \u001b[0;36m<module>\u001b[1;34m\u001b[0m\n\u001b[0;32m      <a href='file:///c%3A/Users/Tim%20de%20Boer/anaconda3/envs/UnicornBCI/lib/site-packages/torch/functional.py?line=0'>1</a>\u001b[0m \u001b[39mfrom\u001b[39;00m \u001b[39mtyping\u001b[39;00m \u001b[39mimport\u001b[39;00m (\n\u001b[0;32m      <a href='file:///c%3A/Users/Tim%20de%20Boer/anaconda3/envs/UnicornBCI/lib/site-packages/torch/functional.py?line=1'>2</a>\u001b[0m     Tuple, Optional, Union, Any, Sequence, TYPE_CHECKING\n\u001b[0;32m      <a href='file:///c%3A/Users/Tim%20de%20Boer/anaconda3/envs/UnicornBCI/lib/site-packages/torch/functional.py?line=2'>3</a>\u001b[0m )\n\u001b[0;32m      <a href='file:///c%3A/Users/Tim%20de%20Boer/anaconda3/envs/UnicornBCI/lib/site-packages/torch/functional.py?line=4'>5</a>\u001b[0m \u001b[39mimport\u001b[39;00m \u001b[39mtorch\u001b[39;00m\n\u001b[1;32m----> <a href='file:///c%3A/Users/Tim%20de%20Boer/anaconda3/envs/UnicornBCI/lib/site-packages/torch/functional.py?line=5'>6</a>\u001b[0m \u001b[39mimport\u001b[39;00m \u001b[39mtorch\u001b[39;00m\u001b[39m.\u001b[39;00m\u001b[39mnn\u001b[39;00m\u001b[39m.\u001b[39;00m\u001b[39mfunctional\u001b[39;00m \u001b[39mas\u001b[39;00m \u001b[39mF\u001b[39;00m\n\u001b[0;32m      <a href='file:///c%3A/Users/Tim%20de%20Boer/anaconda3/envs/UnicornBCI/lib/site-packages/torch/functional.py?line=6'>7</a>\u001b[0m \u001b[39mfrom\u001b[39;00m \u001b[39m.\u001b[39;00m\u001b[39m_lowrank\u001b[39;00m \u001b[39mimport\u001b[39;00m svd_lowrank, pca_lowrank\n\u001b[0;32m      <a href='file:///c%3A/Users/Tim%20de%20Boer/anaconda3/envs/UnicornBCI/lib/site-packages/torch/functional.py?line=7'>8</a>\u001b[0m \u001b[39mfrom\u001b[39;00m \u001b[39m.\u001b[39;00m\u001b[39moverrides\u001b[39;00m \u001b[39mimport\u001b[39;00m (\n\u001b[0;32m      <a href='file:///c%3A/Users/Tim%20de%20Boer/anaconda3/envs/UnicornBCI/lib/site-packages/torch/functional.py?line=8'>9</a>\u001b[0m     has_torch_function, has_torch_function_unary, has_torch_function_variadic,\n\u001b[0;32m     <a href='file:///c%3A/Users/Tim%20de%20Boer/anaconda3/envs/UnicornBCI/lib/site-packages/torch/functional.py?line=9'>10</a>\u001b[0m     handle_torch_function)\n",
      "File \u001b[1;32mc:\\Users\\Tim de Boer\\anaconda3\\envs\\UnicornBCI\\lib\\site-packages\\torch\\nn\\__init__.py:1\u001b[0m, in \u001b[0;36m<module>\u001b[1;34m\u001b[0m\n\u001b[1;32m----> <a href='file:///c%3A/Users/Tim%20de%20Boer/anaconda3/envs/UnicornBCI/lib/site-packages/torch/nn/__init__.py?line=0'>1</a>\u001b[0m \u001b[39mfrom\u001b[39;00m \u001b[39m.\u001b[39;00m\u001b[39mmodules\u001b[39;00m \u001b[39mimport\u001b[39;00m \u001b[39m*\u001b[39m  \u001b[39m# noqa: F403\u001b[39;00m\n\u001b[0;32m      <a href='file:///c%3A/Users/Tim%20de%20Boer/anaconda3/envs/UnicornBCI/lib/site-packages/torch/nn/__init__.py?line=1'>2</a>\u001b[0m \u001b[39mfrom\u001b[39;00m \u001b[39m.\u001b[39;00m\u001b[39mparameter\u001b[39;00m \u001b[39mimport\u001b[39;00m Parameter, UninitializedParameter, UninitializedBuffer\n\u001b[0;32m      <a href='file:///c%3A/Users/Tim%20de%20Boer/anaconda3/envs/UnicornBCI/lib/site-packages/torch/nn/__init__.py?line=2'>3</a>\u001b[0m \u001b[39mfrom\u001b[39;00m \u001b[39m.\u001b[39;00m\u001b[39mparallel\u001b[39;00m \u001b[39mimport\u001b[39;00m DataParallel\n",
      "File \u001b[1;32mc:\\Users\\Tim de Boer\\anaconda3\\envs\\UnicornBCI\\lib\\site-packages\\torch\\nn\\modules\\__init__.py:2\u001b[0m, in \u001b[0;36m<module>\u001b[1;34m\u001b[0m\n\u001b[0;32m      <a href='file:///c%3A/Users/Tim%20de%20Boer/anaconda3/envs/UnicornBCI/lib/site-packages/torch/nn/modules/__init__.py?line=0'>1</a>\u001b[0m \u001b[39mfrom\u001b[39;00m \u001b[39m.\u001b[39;00m\u001b[39mmodule\u001b[39;00m \u001b[39mimport\u001b[39;00m Module\n\u001b[1;32m----> <a href='file:///c%3A/Users/Tim%20de%20Boer/anaconda3/envs/UnicornBCI/lib/site-packages/torch/nn/modules/__init__.py?line=1'>2</a>\u001b[0m \u001b[39mfrom\u001b[39;00m \u001b[39m.\u001b[39;00m\u001b[39mlinear\u001b[39;00m \u001b[39mimport\u001b[39;00m Identity, Linear, Bilinear, LazyLinear\n\u001b[0;32m      <a href='file:///c%3A/Users/Tim%20de%20Boer/anaconda3/envs/UnicornBCI/lib/site-packages/torch/nn/modules/__init__.py?line=2'>3</a>\u001b[0m \u001b[39mfrom\u001b[39;00m \u001b[39m.\u001b[39;00m\u001b[39mconv\u001b[39;00m \u001b[39mimport\u001b[39;00m Conv1d, Conv2d, Conv3d, \\\n\u001b[0;32m      <a href='file:///c%3A/Users/Tim%20de%20Boer/anaconda3/envs/UnicornBCI/lib/site-packages/torch/nn/modules/__init__.py?line=3'>4</a>\u001b[0m     ConvTranspose1d, ConvTranspose2d, ConvTranspose3d, \\\n\u001b[0;32m      <a href='file:///c%3A/Users/Tim%20de%20Boer/anaconda3/envs/UnicornBCI/lib/site-packages/torch/nn/modules/__init__.py?line=4'>5</a>\u001b[0m     LazyConv1d, LazyConv2d, LazyConv3d, LazyConvTranspose1d, LazyConvTranspose2d, LazyConvTranspose3d\n\u001b[0;32m      <a href='file:///c%3A/Users/Tim%20de%20Boer/anaconda3/envs/UnicornBCI/lib/site-packages/torch/nn/modules/__init__.py?line=5'>6</a>\u001b[0m \u001b[39mfrom\u001b[39;00m \u001b[39m.\u001b[39;00m\u001b[39mactivation\u001b[39;00m \u001b[39mimport\u001b[39;00m Threshold, ReLU, Hardtanh, ReLU6, Sigmoid, Tanh, \\\n\u001b[0;32m      <a href='file:///c%3A/Users/Tim%20de%20Boer/anaconda3/envs/UnicornBCI/lib/site-packages/torch/nn/modules/__init__.py?line=6'>7</a>\u001b[0m     Softmax, Softmax2d, LogSoftmax, ELU, SELU, CELU, GELU, Hardshrink, LeakyReLU, LogSigmoid, \\\n\u001b[0;32m      <a href='file:///c%3A/Users/Tim%20de%20Boer/anaconda3/envs/UnicornBCI/lib/site-packages/torch/nn/modules/__init__.py?line=7'>8</a>\u001b[0m     Softplus, Softshrink, MultiheadAttention, PReLU, Softsign, Softmin, Tanhshrink, RReLU, GLU, \\\n\u001b[0;32m      <a href='file:///c%3A/Users/Tim%20de%20Boer/anaconda3/envs/UnicornBCI/lib/site-packages/torch/nn/modules/__init__.py?line=8'>9</a>\u001b[0m     Hardsigmoid, Hardswish, SiLU, Mish\n",
      "File \u001b[1;32mc:\\Users\\Tim de Boer\\anaconda3\\envs\\UnicornBCI\\lib\\site-packages\\torch\\nn\\modules\\linear.py:9\u001b[0m, in \u001b[0;36m<module>\u001b[1;34m\u001b[0m\n\u001b[0;32m      <a href='file:///c%3A/Users/Tim%20de%20Boer/anaconda3/envs/UnicornBCI/lib/site-packages/torch/nn/modules/linear.py?line=6'>7</a>\u001b[0m \u001b[39mfrom\u001b[39;00m \u001b[39m.\u001b[39;00m\u001b[39m.\u001b[39;00m \u001b[39mimport\u001b[39;00m init\n\u001b[0;32m      <a href='file:///c%3A/Users/Tim%20de%20Boer/anaconda3/envs/UnicornBCI/lib/site-packages/torch/nn/modules/linear.py?line=7'>8</a>\u001b[0m \u001b[39mfrom\u001b[39;00m \u001b[39m.\u001b[39;00m\u001b[39mmodule\u001b[39;00m \u001b[39mimport\u001b[39;00m Module\n\u001b[1;32m----> <a href='file:///c%3A/Users/Tim%20de%20Boer/anaconda3/envs/UnicornBCI/lib/site-packages/torch/nn/modules/linear.py?line=8'>9</a>\u001b[0m \u001b[39mfrom\u001b[39;00m \u001b[39m.\u001b[39;00m\u001b[39mlazy\u001b[39;00m \u001b[39mimport\u001b[39;00m LazyModuleMixin\n\u001b[0;32m     <a href='file:///c%3A/Users/Tim%20de%20Boer/anaconda3/envs/UnicornBCI/lib/site-packages/torch/nn/modules/linear.py?line=11'>12</a>\u001b[0m \u001b[39mclass\u001b[39;00m \u001b[39mIdentity\u001b[39;00m(Module):\n\u001b[0;32m     <a href='file:///c%3A/Users/Tim%20de%20Boer/anaconda3/envs/UnicornBCI/lib/site-packages/torch/nn/modules/linear.py?line=12'>13</a>\u001b[0m     \u001b[39mr\u001b[39m\u001b[39m\"\"\"A placeholder identity operator that is argument-insensitive.\u001b[39;00m\n\u001b[0;32m     <a href='file:///c%3A/Users/Tim%20de%20Boer/anaconda3/envs/UnicornBCI/lib/site-packages/torch/nn/modules/linear.py?line=13'>14</a>\u001b[0m \n\u001b[0;32m     <a href='file:///c%3A/Users/Tim%20de%20Boer/anaconda3/envs/UnicornBCI/lib/site-packages/torch/nn/modules/linear.py?line=14'>15</a>\u001b[0m \u001b[39m    Args:\u001b[39;00m\n\u001b[1;32m   (...)\u001b[0m\n\u001b[0;32m     <a href='file:///c%3A/Users/Tim%20de%20Boer/anaconda3/envs/UnicornBCI/lib/site-packages/torch/nn/modules/linear.py?line=29'>30</a>\u001b[0m \n\u001b[0;32m     <a href='file:///c%3A/Users/Tim%20de%20Boer/anaconda3/envs/UnicornBCI/lib/site-packages/torch/nn/modules/linear.py?line=30'>31</a>\u001b[0m \u001b[39m    \"\"\"\u001b[39;00m\n",
      "File \u001b[1;32mc:\\Users\\Tim de Boer\\anaconda3\\envs\\UnicornBCI\\lib\\site-packages\\torch\\nn\\modules\\lazy.py:2\u001b[0m, in \u001b[0;36m<module>\u001b[1;34m\u001b[0m\n\u001b[0;32m      <a href='file:///c%3A/Users/Tim%20de%20Boer/anaconda3/envs/UnicornBCI/lib/site-packages/torch/nn/modules/lazy.py?line=0'>1</a>\u001b[0m \u001b[39mimport\u001b[39;00m \u001b[39mitertools\u001b[39;00m\n\u001b[1;32m----> <a href='file:///c%3A/Users/Tim%20de%20Boer/anaconda3/envs/UnicornBCI/lib/site-packages/torch/nn/modules/lazy.py?line=1'>2</a>\u001b[0m \u001b[39mfrom\u001b[39;00m \u001b[39mtyping_extensions\u001b[39;00m \u001b[39mimport\u001b[39;00m Protocol\n\u001b[0;32m      <a href='file:///c%3A/Users/Tim%20de%20Boer/anaconda3/envs/UnicornBCI/lib/site-packages/torch/nn/modules/lazy.py?line=2'>3</a>\u001b[0m \u001b[39mimport\u001b[39;00m \u001b[39mwarnings\u001b[39;00m\n\u001b[0;32m      <a href='file:///c%3A/Users/Tim%20de%20Boer/anaconda3/envs/UnicornBCI/lib/site-packages/torch/nn/modules/lazy.py?line=4'>5</a>\u001b[0m \u001b[39mimport\u001b[39;00m \u001b[39mtorch\u001b[39;00m\n",
      "\u001b[1;31mModuleNotFoundError\u001b[0m: No module named 'typing_extensions'"
     ]
    }
   ],
   "source": [
    "import numpy as np\n",
    "import src.realtime_utils as utils\n",
    "import torch\n",
    "from pylsl import StreamInlet, resolve_stream"
   ]
  },
  {
   "cell_type": "code",
   "execution_count": null,
   "id": "c33e7382",
   "metadata": {},
   "outputs": [],
   "source": [
    "# INIT\n",
    "filt_ord = 2\n",
    "freq_limits = np.asarray([[1,100]]) \n",
    "freq_limits_names = ['1_100Hz']\n",
    "sample_duration = 125\n",
    "sampling_frequency = 250\n",
    "subject = FLAGS.subjects[0]\n",
    "electrode_names =  ['FZ', 'C3', 'CZ', 'C4', 'PZ', 'PO7', 'OZ', 'PO8']\n",
    "filters = utils.init_filters(freq_limits, sampling_frequency, filt_type = 'bandpass', order=filt_ord)\n",
    "segments, labels, predictions = [], [], []\n",
    "total_outlier = 0\n",
    "\n",
    "# init DL model\n",
    "net = utils.EEGNET()\n",
    "net.load_state_dict(torch.load(f'finetuned_models/{subject}/EEGNET_trialnum4'))\n",
    "net = net.float()\n",
    "net.eval()"
   ]
  },
  {
   "cell_type": "code",
   "execution_count": null,
   "id": "21609d46",
   "metadata": {},
   "outputs": [],
   "source": [
    "# below code is for initializing the streaming layer which will help us capture data later\n",
    "finished = False\n",
    "streams = resolve_stream()\n",
    "inlet = StreamInlet(streams[0])\n",
    "sig_tot = ''\n",
    "i = 0"
   ]
  },
  {
   "cell_type": "code",
   "execution_count": 2,
   "id": "502d3a69",
   "metadata": {},
   "outputs": [],
   "source": [
    "columns=['Time','FZ', 'C3', 'CZ', 'C4', 'PZ', 'PO7', 'OZ', 'PO8','AccX','AccY','AccZ','Gyro1','Gyro2','Gyro3',\n",
    "                                  'Battery','Counter','Validation']\n",
    "\n",
    "data_dict = dict((k, []) for k in columns)\n",
    "\n",
    "#updating database with captured data from EEG\n",
    "def update_data(data,res):\n",
    "    i = 0\n",
    "    for key in list(data.keys()):\n",
    "        data[key].append(res[i])\n",
    "        i = i +1\n",
    "    return data"
   ]
  },
  {
   "cell_type": "code",
   "execution_count": 3,
   "id": "ba963ff8",
   "metadata": {},
   "outputs": [],
   "source": [
    "while not finished:\n",
    "    # capturing sample first using inlet.pull_sample()\n",
    "    sample, timestamp = inlet.pull_sample()\n",
    "    print( timestamp, sample)"
   ]
  },
  {
   "cell_type": "code",
   "execution_count": null,
   "id": "1a9f50f1",
   "metadata": {},
   "outputs": [],
   "source": [
    "#     res = [timestamp] + sample\n",
    "#     data_dict = update_data(data_dict,res)\n",
    "#     times.append(timestamp)\n",
    "\n",
    "# data_dict['Class'] = classes\n",
    "# # making dictionary into a dataframe for saving it as csv\n",
    "# record_data = pd.DataFrame.from_dict(data_dict)"
   ]
  }
 ],
 "metadata": {
  "interpreter": {
   "hash": "b6048e62c6ef2da1fc684b9cfa161fc0471ee4bbc702e058de876b1b813933a9"
  },
  "kernelspec": {
   "display_name": "Python 3.9.7 ('UnicornBCI')",
   "language": "python",
   "name": "python3"
  },
  "language_info": {
   "codemirror_mode": {
    "name": "ipython",
    "version": 3
   },
   "file_extension": ".py",
   "mimetype": "text/x-python",
   "name": "python",
   "nbconvert_exporter": "python",
   "pygments_lexer": "ipython3",
   "version": "3.9.12"
  }
 },
 "nbformat": 4,
 "nbformat_minor": 5
}
